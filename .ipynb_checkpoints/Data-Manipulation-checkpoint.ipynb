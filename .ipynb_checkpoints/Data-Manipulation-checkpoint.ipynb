{
 "cells": [
  {
   "cell_type": "markdown",
   "metadata": {},
   "source": [
    "### Methods\n",
    "\n",
    "#### Understanding the data: \n",
    "- I started by using the pandas library to read in my csv file. By utilizing the ```.index()``` and ```.columns()``` I was able to see the number of rows and columns in my dataframe.\n",
    "\n",
    "- I then used the ```.head()``` method which is a method on a dataframe object and passed in the number 10 so I can just see the first 10 rows of data."
   ]
  },
  {
   "cell_type": "code",
   "execution_count": 1,
   "metadata": {
    "scrolled": true
   },
   "outputs": [
    {
     "name": "stdout",
     "output_type": "stream",
     "text": [
      "num of rows:  1000\n",
      "num of columns:  14\n"
     ]
    },
    {
     "data": {
      "text/html": [
       "<div>\n",
       "<style scoped>\n",
       "    .dataframe tbody tr th:only-of-type {\n",
       "        vertical-align: middle;\n",
       "    }\n",
       "\n",
       "    .dataframe tbody tr th {\n",
       "        vertical-align: top;\n",
       "    }\n",
       "\n",
       "    .dataframe thead th {\n",
       "        text-align: right;\n",
       "    }\n",
       "</style>\n",
       "<table border=\"1\" class=\"dataframe\">\n",
       "  <thead>\n",
       "    <tr style=\"text-align: right;\">\n",
       "      <th></th>\n",
       "      <th>id</th>\n",
       "      <th>first_name</th>\n",
       "      <th>last_name</th>\n",
       "      <th>email</th>\n",
       "      <th>gender</th>\n",
       "      <th>street_address</th>\n",
       "      <th>city</th>\n",
       "      <th>state</th>\n",
       "      <th>date_applied</th>\n",
       "      <th>profession</th>\n",
       "      <th>income</th>\n",
       "      <th>married</th>\n",
       "      <th>ssn</th>\n",
       "      <th>site_visits</th>\n",
       "    </tr>\n",
       "  </thead>\n",
       "  <tbody>\n",
       "    <tr>\n",
       "      <th>0</th>\n",
       "      <td>1000</td>\n",
       "      <td>Gwendolin</td>\n",
       "      <td>Jakolevitch</td>\n",
       "      <td>gjakolevitch0@ezinearticles.com</td>\n",
       "      <td>Female</td>\n",
       "      <td>99 Sachs Pass</td>\n",
       "      <td>Loretto</td>\n",
       "      <td>Minnesota</td>\n",
       "      <td>01/03/2018</td>\n",
       "      <td>Administrative Assistant II</td>\n",
       "      <td>63636.0</td>\n",
       "      <td>False</td>\n",
       "      <td>398-17-3277</td>\n",
       "      <td>Monthly</td>\n",
       "    </tr>\n",
       "    <tr>\n",
       "      <th>1</th>\n",
       "      <td>1001</td>\n",
       "      <td>Olenolin</td>\n",
       "      <td>O'Downe</td>\n",
       "      <td>oodowne1@amazonaws.com</td>\n",
       "      <td>Male</td>\n",
       "      <td>11539 Susan Point</td>\n",
       "      <td>Jacksonville</td>\n",
       "      <td>Florida</td>\n",
       "      <td>02/14/2016</td>\n",
       "      <td>Senior Developer</td>\n",
       "      <td>69610.0</td>\n",
       "      <td>False</td>\n",
       "      <td>856-65-4413</td>\n",
       "      <td>Daily</td>\n",
       "    </tr>\n",
       "    <tr>\n",
       "      <th>2</th>\n",
       "      <td>1002</td>\n",
       "      <td>Ebenezer</td>\n",
       "      <td>Stalman</td>\n",
       "      <td>estalman2@aol.com</td>\n",
       "      <td>Male</td>\n",
       "      <td>823 Bowman Road</td>\n",
       "      <td>Little Rock</td>\n",
       "      <td>Arkansas</td>\n",
       "      <td>03/29/2017</td>\n",
       "      <td>Safety Technician II</td>\n",
       "      <td>66230.0</td>\n",
       "      <td>True</td>\n",
       "      <td>808-60-9170</td>\n",
       "      <td>Never</td>\n",
       "    </tr>\n",
       "    <tr>\n",
       "      <th>3</th>\n",
       "      <td>1003</td>\n",
       "      <td>Antoine</td>\n",
       "      <td>Arias</td>\n",
       "      <td>aarias3@tripadvisor.com</td>\n",
       "      <td>Male</td>\n",
       "      <td>35536 Roth Plaza</td>\n",
       "      <td>Amarillo</td>\n",
       "      <td>Texas</td>\n",
       "      <td>03/22/2016</td>\n",
       "      <td>Data Coordiator</td>\n",
       "      <td>50151.0</td>\n",
       "      <td>True</td>\n",
       "      <td>359-92-2843</td>\n",
       "      <td>Never</td>\n",
       "    </tr>\n",
       "    <tr>\n",
       "      <th>4</th>\n",
       "      <td>1004</td>\n",
       "      <td>Josias</td>\n",
       "      <td>Candlin</td>\n",
       "      <td>jcandlin4@arstechnica.com</td>\n",
       "      <td>Male</td>\n",
       "      <td>629 Pond Lane</td>\n",
       "      <td>Cincinnati</td>\n",
       "      <td>Ohio</td>\n",
       "      <td>06/30/2016</td>\n",
       "      <td>Design Engineer</td>\n",
       "      <td>39419.0</td>\n",
       "      <td>False</td>\n",
       "      <td>535-56-2192</td>\n",
       "      <td>Once</td>\n",
       "    </tr>\n",
       "    <tr>\n",
       "      <th>5</th>\n",
       "      <td>1005</td>\n",
       "      <td>Alf</td>\n",
       "      <td>Amberger</td>\n",
       "      <td>aamberger5@unesco.org</td>\n",
       "      <td>NaN</td>\n",
       "      <td>05 Sachtjen Center</td>\n",
       "      <td>Washington</td>\n",
       "      <td>District of Columbia</td>\n",
       "      <td>07/23/2016</td>\n",
       "      <td>Administrative Assistant III</td>\n",
       "      <td>NaN</td>\n",
       "      <td>NaN</td>\n",
       "      <td>NaN</td>\n",
       "      <td>NaN</td>\n",
       "    </tr>\n",
       "    <tr>\n",
       "      <th>6</th>\n",
       "      <td>1006</td>\n",
       "      <td>Cordy</td>\n",
       "      <td>McTeer</td>\n",
       "      <td>cmcteer6@marriott.com</td>\n",
       "      <td>Male</td>\n",
       "      <td>776 Walton Pass</td>\n",
       "      <td>Honolulu</td>\n",
       "      <td>Hawaii</td>\n",
       "      <td>05/07/2016</td>\n",
       "      <td>Design Engineer</td>\n",
       "      <td>47639.0</td>\n",
       "      <td>True</td>\n",
       "      <td>599-07-6728</td>\n",
       "      <td>Once</td>\n",
       "    </tr>\n",
       "    <tr>\n",
       "      <th>7</th>\n",
       "      <td>1007</td>\n",
       "      <td>Casey</td>\n",
       "      <td>Mardee</td>\n",
       "      <td>cmardee7@hud.gov</td>\n",
       "      <td>Female</td>\n",
       "      <td>19 Victoria Crossing</td>\n",
       "      <td>Denver</td>\n",
       "      <td>Colorado</td>\n",
       "      <td>07/28/2016</td>\n",
       "      <td>Software Consultant</td>\n",
       "      <td>50904.0</td>\n",
       "      <td>True</td>\n",
       "      <td>534-79-3538</td>\n",
       "      <td>Never</td>\n",
       "    </tr>\n",
       "    <tr>\n",
       "      <th>8</th>\n",
       "      <td>1008</td>\n",
       "      <td>Sumner</td>\n",
       "      <td>Brabham</td>\n",
       "      <td>sbrabham8@google.ca</td>\n",
       "      <td>Male</td>\n",
       "      <td>2 Bluejay Drive</td>\n",
       "      <td>Chicago</td>\n",
       "      <td>Illinois</td>\n",
       "      <td>09/18/2017</td>\n",
       "      <td>Human Resources Assistant III</td>\n",
       "      <td>35950.0</td>\n",
       "      <td>True</td>\n",
       "      <td>241-56-9159</td>\n",
       "      <td>Seldom</td>\n",
       "    </tr>\n",
       "    <tr>\n",
       "      <th>9</th>\n",
       "      <td>1009</td>\n",
       "      <td>Perl</td>\n",
       "      <td>Pearman</td>\n",
       "      <td>ppearman9@photobucket.com</td>\n",
       "      <td>Female</td>\n",
       "      <td>883 Porter Road</td>\n",
       "      <td>Rochester</td>\n",
       "      <td>New York</td>\n",
       "      <td>02/27/2017</td>\n",
       "      <td>Senior Financial Analyst</td>\n",
       "      <td>74806.0</td>\n",
       "      <td>False</td>\n",
       "      <td>583-15-3917</td>\n",
       "      <td>Daily</td>\n",
       "    </tr>\n",
       "  </tbody>\n",
       "</table>\n",
       "</div>"
      ],
      "text/plain": [
       "     id first_name    last_name                            email  gender  \\\n",
       "0  1000  Gwendolin  Jakolevitch  gjakolevitch0@ezinearticles.com  Female   \n",
       "1  1001   Olenolin      O'Downe           oodowne1@amazonaws.com    Male   \n",
       "2  1002   Ebenezer      Stalman                estalman2@aol.com    Male   \n",
       "3  1003    Antoine        Arias          aarias3@tripadvisor.com    Male   \n",
       "4  1004     Josias      Candlin        jcandlin4@arstechnica.com    Male   \n",
       "5  1005        Alf     Amberger            aamberger5@unesco.org     NaN   \n",
       "6  1006      Cordy       McTeer            cmcteer6@marriott.com    Male   \n",
       "7  1007      Casey       Mardee                 cmardee7@hud.gov  Female   \n",
       "8  1008     Sumner      Brabham              sbrabham8@google.ca    Male   \n",
       "9  1009       Perl      Pearman        ppearman9@photobucket.com  Female   \n",
       "\n",
       "         street_address          city                 state date_applied  \\\n",
       "0         99 Sachs Pass       Loretto             Minnesota   01/03/2018   \n",
       "1     11539 Susan Point  Jacksonville               Florida   02/14/2016   \n",
       "2       823 Bowman Road   Little Rock              Arkansas   03/29/2017   \n",
       "3      35536 Roth Plaza      Amarillo                 Texas   03/22/2016   \n",
       "4         629 Pond Lane    Cincinnati                  Ohio   06/30/2016   \n",
       "5    05 Sachtjen Center    Washington  District of Columbia   07/23/2016   \n",
       "6       776 Walton Pass      Honolulu                Hawaii   05/07/2016   \n",
       "7  19 Victoria Crossing        Denver              Colorado   07/28/2016   \n",
       "8       2 Bluejay Drive       Chicago              Illinois   09/18/2017   \n",
       "9       883 Porter Road     Rochester              New York   02/27/2017   \n",
       "\n",
       "                      profession   income married          ssn site_visits  \n",
       "0    Administrative Assistant II  63636.0   False  398-17-3277     Monthly  \n",
       "1               Senior Developer  69610.0   False  856-65-4413       Daily  \n",
       "2           Safety Technician II  66230.0    True  808-60-9170       Never  \n",
       "3                Data Coordiator  50151.0    True  359-92-2843       Never  \n",
       "4                Design Engineer  39419.0   False  535-56-2192        Once  \n",
       "5   Administrative Assistant III      NaN     NaN          NaN         NaN  \n",
       "6                Design Engineer  47639.0    True  599-07-6728        Once  \n",
       "7            Software Consultant  50904.0    True  534-79-3538       Never  \n",
       "8  Human Resources Assistant III  35950.0    True  241-56-9159      Seldom  \n",
       "9       Senior Financial Analyst  74806.0   False  583-15-3917       Daily  "
      ]
     },
     "execution_count": 1,
     "metadata": {},
     "output_type": "execute_result"
    }
   ],
   "source": [
    "import pandas as pd\n",
    "import numpy as np\n",
    "from matplotlib import pyplot as plt\n",
    "%matplotlib inline\n",
    "\n",
    "#Reading the dataset in a dataframe using Pandas\n",
    "df = pd.read_csv(\"./data/mock_app_data.csv\") \n",
    "\n",
    "#returns number of rows\n",
    "print(\"num of rows: \", len(df.index))\n",
    "\n",
    "#returns number of columns\n",
    "print(\"num of columns: \", len(df. columns))\n",
    "\n",
    "#returns first 10 rows with header\n",
    "df.head(10)"
   ]
  },
  {
   "cell_type": "markdown",
   "metadata": {},
   "source": [
    "#### Data Exploration\n",
    "\n",
    "- Using the ```.describe()``` function I was able to see the count, mean, standard deviation (std), min, quartiles and max in its output. We will ignore the id column since it's just an application id and we don't need to do any analysis on it. \n",
    "\n",
    "- We can see from the output that there are rows in the income column is missing 61 values since the file has 1000 rows and count returned 939.\n",
    "\n",
    "- Using ```df['female'].value_counts()``` function we can determine how many applicants were male and how many were female. From this I can determine that there are 61 missing records from gender by adding both counts together and subtracting from the total row count."
   ]
  },
  {
   "cell_type": "code",
   "execution_count": 10,
   "metadata": {},
   "outputs": [
    {
     "data": {
      "text/html": [
       "<div>\n",
       "<style scoped>\n",
       "    .dataframe tbody tr th:only-of-type {\n",
       "        vertical-align: middle;\n",
       "    }\n",
       "\n",
       "    .dataframe tbody tr th {\n",
       "        vertical-align: top;\n",
       "    }\n",
       "\n",
       "    .dataframe thead th {\n",
       "        text-align: right;\n",
       "    }\n",
       "</style>\n",
       "<table border=\"1\" class=\"dataframe\">\n",
       "  <thead>\n",
       "    <tr style=\"text-align: right;\">\n",
       "      <th></th>\n",
       "      <th>id</th>\n",
       "      <th>income</th>\n",
       "    </tr>\n",
       "  </thead>\n",
       "  <tbody>\n",
       "    <tr>\n",
       "      <th>count</th>\n",
       "      <td>1000.000000</td>\n",
       "      <td>939.000000</td>\n",
       "    </tr>\n",
       "    <tr>\n",
       "      <th>mean</th>\n",
       "      <td>1499.500000</td>\n",
       "      <td>55165.820021</td>\n",
       "    </tr>\n",
       "    <tr>\n",
       "      <th>std</th>\n",
       "      <td>288.819436</td>\n",
       "      <td>11718.398734</td>\n",
       "    </tr>\n",
       "    <tr>\n",
       "      <th>min</th>\n",
       "      <td>1000.000000</td>\n",
       "      <td>35005.000000</td>\n",
       "    </tr>\n",
       "    <tr>\n",
       "      <th>25%</th>\n",
       "      <td>1249.750000</td>\n",
       "      <td>44863.000000</td>\n",
       "    </tr>\n",
       "    <tr>\n",
       "      <th>50%</th>\n",
       "      <td>1499.500000</td>\n",
       "      <td>54976.000000</td>\n",
       "    </tr>\n",
       "    <tr>\n",
       "      <th>75%</th>\n",
       "      <td>1749.250000</td>\n",
       "      <td>65493.000000</td>\n",
       "    </tr>\n",
       "    <tr>\n",
       "      <th>max</th>\n",
       "      <td>1999.000000</td>\n",
       "      <td>74991.000000</td>\n",
       "    </tr>\n",
       "  </tbody>\n",
       "</table>\n",
       "</div>"
      ],
      "text/plain": [
       "                id        income\n",
       "count  1000.000000    939.000000\n",
       "mean   1499.500000  55165.820021\n",
       "std     288.819436  11718.398734\n",
       "min    1000.000000  35005.000000\n",
       "25%    1249.750000  44863.000000\n",
       "50%    1499.500000  54976.000000\n",
       "75%    1749.250000  65493.000000\n",
       "max    1999.000000  74991.000000"
      ]
     },
     "execution_count": 10,
     "metadata": {},
     "output_type": "execute_result"
    }
   ],
   "source": [
    "# basic description of the data\n",
    "df.describe()"
   ]
  },
  {
   "cell_type": "code",
   "execution_count": 9,
   "metadata": {},
   "outputs": [
    {
     "data": {
      "text/plain": [
       "Female    479\n",
       "Male      460\n",
       "Name: gender, dtype: int64"
      ]
     },
     "execution_count": 9,
     "metadata": {},
     "output_type": "execute_result"
    }
   ],
   "source": [
    "# count for variations in gender that have values\n",
    "df['gender'].value_counts()"
   ]
  },
  {
   "cell_type": "markdown",
   "metadata": {},
   "source": [
    "### Structuring data into a meaningful format\n",
    "Once I knew what kind of data I was working with. I now wanted to visualize it. \n",
    "\n",
    "- I used ```.boxplot(column='income')``` to make a plot chart of the variance in applicant's income.\n",
    "- Here I can clearly see that the range in income is from 35,000 to 75,000 and the median was right around 55,000.\n",
    "- I then used ```.boxplot(column='income', by = 'gender', patch_artist=True)``` to visually see a comparison of income between male and female."
   ]
  },
  {
   "cell_type": "code",
   "execution_count": 8,
   "metadata": {},
   "outputs": [
    {
     "data": {
      "text/plain": [
       "<matplotlib.axes._subplots.AxesSubplot at 0x115401588>"
      ]
     },
     "execution_count": 8,
     "metadata": {},
     "output_type": "execute_result"
    },
    {
     "data": {
      "image/png": "[encoded data removed]",
      "text/plain": [
       "<matplotlib.figure.Figure at 0x10d2aed68>"
      ]
     },
     "metadata": {},
     "output_type": "display_data"
    }
   ],
   "source": [
    "# visually ploting the range in income and the median for all applicants\n",
    "df.boxplot(column= 'income')"
   ]
  },
  {
   "cell_type": "code",
   "execution_count": 11,
   "metadata": {
    "scrolled": true
   },
   "outputs": [
    {
     "data": {
      "image/png": "[encoded data removed]",
      "text/plain": [
       "<matplotlib.figure.Figure at 0x118992278>"
      ]
     },
     "metadata": {},
     "output_type": "display_data"
    }
   ],
   "source": [
    "# visually plotting a comparison of income between male and female.\n",
    "bp = df.boxplot(column='income', by = 'gender', patch_artist=True)"
   ]
  },
  {
   "cell_type": "code",
   "execution_count": null,
   "metadata": {
    "collapsed": true
   },
   "outputs": [],
   "source": []
  }
 ],
 "metadata": {
  "kernelspec": {
   "display_name": "Python 3",
   "language": "python",
   "name": "python3"
  },
  "language_info": {
   "codemirror_mode": {
    "name": "ipython",
    "version": 3
   },
   "file_extension": ".py",
   "mimetype": "text/x-python",
   "name": "python",
   "nbconvert_exporter": "python",
   "pygments_lexer": "ipython3",
   "version": "3.6.3"
  }
 },
 "nbformat": 4,
 "nbformat_minor": 2
}
