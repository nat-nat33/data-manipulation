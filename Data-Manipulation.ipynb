{
 "cells": [
  {
   "cell_type": "markdown",
   "metadata": {},
   "source": [
    "### Methods\n",
    "#### Understanding the data: \n",
    "I started by using the pandas library to read in my csv file. By utilizing the ```.index()``` and ```.columns()``` I was able to see the number of rows and columns in my dataframe.\n",
    "\n",
    "I then used the ```.head()``` method which is a method on a dataframe object and passed in the number 10 so I can just see the first 10 rows of data."
   ]
  },
  {
   "cell_type": "code",
   "execution_count": 2,
   "metadata": {
    "scrolled": true
   },
   "outputs": [
    {
     "name": "stdout",
     "output_type": "stream",
     "text": [
      "num of rows:  1000\n",
      "num of columns:  11\n"
     ]
    },
    {
     "data": {
      "text/html": [
       "<div>\n",
       "<style scoped>\n",
       "    .dataframe tbody tr th:only-of-type {\n",
       "        vertical-align: middle;\n",
       "    }\n",
       "\n",
       "    .dataframe tbody tr th {\n",
       "        vertical-align: top;\n",
       "    }\n",
       "\n",
       "    .dataframe thead th {\n",
       "        text-align: right;\n",
       "    }\n",
       "</style>\n",
       "<table border=\"1\" class=\"dataframe\">\n",
       "  <thead>\n",
       "    <tr style=\"text-align: right;\">\n",
       "      <th></th>\n",
       "      <th>id</th>\n",
       "      <th>first_name</th>\n",
       "      <th>last_name</th>\n",
       "      <th>email</th>\n",
       "      <th>gender</th>\n",
       "      <th>street_address</th>\n",
       "      <th>city</th>\n",
       "      <th>state</th>\n",
       "      <th>date_applied</th>\n",
       "      <th>progession</th>\n",
       "      <th>income</th>\n",
       "    </tr>\n",
       "  </thead>\n",
       "  <tbody>\n",
       "    <tr>\n",
       "      <th>0</th>\n",
       "      <td>1000</td>\n",
       "      <td>Ewan</td>\n",
       "      <td>Markovich</td>\n",
       "      <td>emarkovich0@csmonitor.com</td>\n",
       "      <td>Male</td>\n",
       "      <td>6 Brickson Park Place</td>\n",
       "      <td>Columbus</td>\n",
       "      <td>Ohio</td>\n",
       "      <td>05/28/2016</td>\n",
       "      <td>Senior Sales Associate</td>\n",
       "      <td>44951.0</td>\n",
       "    </tr>\n",
       "    <tr>\n",
       "      <th>1</th>\n",
       "      <td>1001</td>\n",
       "      <td>Darcee</td>\n",
       "      <td>Shardlow</td>\n",
       "      <td>dshardlow1@live.com</td>\n",
       "      <td>Female</td>\n",
       "      <td>40977 Hanover Parkway</td>\n",
       "      <td>Lancaster</td>\n",
       "      <td>Pennsylvania</td>\n",
       "      <td>07/04/2016</td>\n",
       "      <td>Physical Therapy Assistant</td>\n",
       "      <td>42699.0</td>\n",
       "    </tr>\n",
       "    <tr>\n",
       "      <th>2</th>\n",
       "      <td>1002</td>\n",
       "      <td>Matt</td>\n",
       "      <td>Swancott</td>\n",
       "      <td>mswancott2@npr.org</td>\n",
       "      <td>Male</td>\n",
       "      <td>514 6th Junction</td>\n",
       "      <td>Omaha</td>\n",
       "      <td>Nebraska</td>\n",
       "      <td>12/15/2017</td>\n",
       "      <td>Media Manager I</td>\n",
       "      <td>74225.0</td>\n",
       "    </tr>\n",
       "    <tr>\n",
       "      <th>3</th>\n",
       "      <td>1003</td>\n",
       "      <td>Meade</td>\n",
       "      <td>Hillin</td>\n",
       "      <td>mhillin3@nationalgeographic.com</td>\n",
       "      <td>Male</td>\n",
       "      <td>2639 Cardinal Street</td>\n",
       "      <td>Riverside</td>\n",
       "      <td>California</td>\n",
       "      <td>09/27/2017</td>\n",
       "      <td>Research Assistant III</td>\n",
       "      <td>53885.0</td>\n",
       "    </tr>\n",
       "    <tr>\n",
       "      <th>4</th>\n",
       "      <td>1004</td>\n",
       "      <td>Leese</td>\n",
       "      <td>Garahan</td>\n",
       "      <td>lgarahan4@sphinn.com</td>\n",
       "      <td>Female</td>\n",
       "      <td>66 Blue Bill Park Pass</td>\n",
       "      <td>Las Vegas</td>\n",
       "      <td>Nevada</td>\n",
       "      <td>01/20/2016</td>\n",
       "      <td>Sales Associate</td>\n",
       "      <td>50149.0</td>\n",
       "    </tr>\n",
       "    <tr>\n",
       "      <th>5</th>\n",
       "      <td>1005</td>\n",
       "      <td>Gwendolen</td>\n",
       "      <td>Palia</td>\n",
       "      <td>gpalia5@patch.com</td>\n",
       "      <td>Female</td>\n",
       "      <td>507 Anzinger Place</td>\n",
       "      <td>Chicago</td>\n",
       "      <td>Illinois</td>\n",
       "      <td>04/28/2016</td>\n",
       "      <td>VP Quality Control</td>\n",
       "      <td>71921.0</td>\n",
       "    </tr>\n",
       "    <tr>\n",
       "      <th>6</th>\n",
       "      <td>1006</td>\n",
       "      <td>Horten</td>\n",
       "      <td>Hickford</td>\n",
       "      <td>hhickford6@discuz.net</td>\n",
       "      <td>Male</td>\n",
       "      <td>42586 Rockefeller Alley</td>\n",
       "      <td>Fort Smith</td>\n",
       "      <td>Arkansas</td>\n",
       "      <td>12/10/2017</td>\n",
       "      <td>Software Test Engineer III</td>\n",
       "      <td>72968.0</td>\n",
       "    </tr>\n",
       "    <tr>\n",
       "      <th>7</th>\n",
       "      <td>1007</td>\n",
       "      <td>Theodor</td>\n",
       "      <td>MacCallum</td>\n",
       "      <td>tmaccallum7@shutterfly.com</td>\n",
       "      <td>Male</td>\n",
       "      <td>064 Cottonwood Place</td>\n",
       "      <td>Saint Louis</td>\n",
       "      <td>Missouri</td>\n",
       "      <td>06/10/2017</td>\n",
       "      <td>Safety Technician I</td>\n",
       "      <td>40023.0</td>\n",
       "    </tr>\n",
       "    <tr>\n",
       "      <th>8</th>\n",
       "      <td>1008</td>\n",
       "      <td>Hedda</td>\n",
       "      <td>Finkle</td>\n",
       "      <td>hfinkle8@cbc.ca</td>\n",
       "      <td>Female</td>\n",
       "      <td>7 Bowman Lane</td>\n",
       "      <td>Houston</td>\n",
       "      <td>Texas</td>\n",
       "      <td>06/04/2016</td>\n",
       "      <td>Budget/Accounting Analyst I</td>\n",
       "      <td>69307.0</td>\n",
       "    </tr>\n",
       "    <tr>\n",
       "      <th>9</th>\n",
       "      <td>1009</td>\n",
       "      <td>Huntlee</td>\n",
       "      <td>Poles</td>\n",
       "      <td>hpoles9@geocities.com</td>\n",
       "      <td>Male</td>\n",
       "      <td>174 Ramsey Pass</td>\n",
       "      <td>Atlanta</td>\n",
       "      <td>Georgia</td>\n",
       "      <td>02/15/2017</td>\n",
       "      <td>Account Representative III</td>\n",
       "      <td>60884.0</td>\n",
       "    </tr>\n",
       "  </tbody>\n",
       "</table>\n",
       "</div>"
      ],
      "text/plain": [
       "     id first_name  last_name                            email  gender  \\\n",
       "0  1000       Ewan  Markovich        emarkovich0@csmonitor.com    Male   \n",
       "1  1001     Darcee   Shardlow              dshardlow1@live.com  Female   \n",
       "2  1002       Matt   Swancott               mswancott2@npr.org    Male   \n",
       "3  1003      Meade     Hillin  mhillin3@nationalgeographic.com    Male   \n",
       "4  1004      Leese    Garahan             lgarahan4@sphinn.com  Female   \n",
       "5  1005  Gwendolen      Palia                gpalia5@patch.com  Female   \n",
       "6  1006     Horten   Hickford            hhickford6@discuz.net    Male   \n",
       "7  1007    Theodor  MacCallum       tmaccallum7@shutterfly.com    Male   \n",
       "8  1008      Hedda     Finkle                  hfinkle8@cbc.ca  Female   \n",
       "9  1009    Huntlee      Poles            hpoles9@geocities.com    Male   \n",
       "\n",
       "            street_address         city         state date_applied  \\\n",
       "0    6 Brickson Park Place     Columbus          Ohio   05/28/2016   \n",
       "1    40977 Hanover Parkway    Lancaster  Pennsylvania   07/04/2016   \n",
       "2         514 6th Junction        Omaha      Nebraska   12/15/2017   \n",
       "3     2639 Cardinal Street    Riverside    California   09/27/2017   \n",
       "4   66 Blue Bill Park Pass    Las Vegas        Nevada   01/20/2016   \n",
       "5       507 Anzinger Place      Chicago      Illinois   04/28/2016   \n",
       "6  42586 Rockefeller Alley   Fort Smith      Arkansas   12/10/2017   \n",
       "7     064 Cottonwood Place  Saint Louis      Missouri   06/10/2017   \n",
       "8            7 Bowman Lane      Houston         Texas   06/04/2016   \n",
       "9          174 Ramsey Pass      Atlanta       Georgia   02/15/2017   \n",
       "\n",
       "                    progession   income  \n",
       "0       Senior Sales Associate  44951.0  \n",
       "1   Physical Therapy Assistant  42699.0  \n",
       "2              Media Manager I  74225.0  \n",
       "3       Research Assistant III  53885.0  \n",
       "4              Sales Associate  50149.0  \n",
       "5           VP Quality Control  71921.0  \n",
       "6   Software Test Engineer III  72968.0  \n",
       "7          Safety Technician I  40023.0  \n",
       "8  Budget/Accounting Analyst I  69307.0  \n",
       "9   Account Representative III  60884.0  "
      ]
     },
     "execution_count": 2,
     "metadata": {},
     "output_type": "execute_result"
    }
   ],
   "source": [
    "import pandas as pd\n",
    "import numpy as np\n",
    "from matplotlib import pyplot as plt\n",
    "%matplotlib inline\n",
    "\n",
    "#Reading the dataset in a dataframe using Pandas\n",
    "df = pd.read_csv(\"./data/mock_app_data.csv\") \n",
    "\n",
    "#returns number of rows\n",
    "print(\"num of rows: \", len(df.index))\n",
    "\n",
    "#returns number of columns\n",
    "print(\"num of columns: \", len(df. columns))\n",
    "\n",
    "#returns first 10 rows with header\n",
    "df.head(10)"
   ]
  },
  {
   "cell_type": "markdown",
   "metadata": {},
   "source": [
    "### Data Exploration\n",
    "\n",
    "Using the ```.describe()``` function I was able to see the count, mean, standard deviation (std), min, quartiles and max in its output. We will ignore the id column since it's just an application id and we don't need to do any analysis on it. \n",
    "\n",
    "We can see from the output that there are rows in the income column is missing 55 values since the file has 1000 rows and count returned 945.\n",
    "\n",
    "Using ```df['female'].value_counts()``` function we can determine how many applicants were male and how many were female. From this I can determine that there are 44 missing records from gender by adding both counts together and subtracting from the total row count."
   ]
  },
  {
   "cell_type": "code",
   "execution_count": 9,
   "metadata": {},
   "outputs": [
    {
     "data": {
      "text/html": [
       "<div>\n",
       "<style scoped>\n",
       "    .dataframe tbody tr th:only-of-type {\n",
       "        vertical-align: middle;\n",
       "    }\n",
       "\n",
       "    .dataframe tbody tr th {\n",
       "        vertical-align: top;\n",
       "    }\n",
       "\n",
       "    .dataframe thead th {\n",
       "        text-align: right;\n",
       "    }\n",
       "</style>\n",
       "<table border=\"1\" class=\"dataframe\">\n",
       "  <thead>\n",
       "    <tr style=\"text-align: right;\">\n",
       "      <th></th>\n",
       "      <th>id</th>\n",
       "      <th>income</th>\n",
       "    </tr>\n",
       "  </thead>\n",
       "  <tbody>\n",
       "    <tr>\n",
       "      <th>count</th>\n",
       "      <td>1000.000000</td>\n",
       "      <td>945.000000</td>\n",
       "    </tr>\n",
       "    <tr>\n",
       "      <th>mean</th>\n",
       "      <td>1499.500000</td>\n",
       "      <td>54601.469841</td>\n",
       "    </tr>\n",
       "    <tr>\n",
       "      <th>std</th>\n",
       "      <td>288.819436</td>\n",
       "      <td>11397.859584</td>\n",
       "    </tr>\n",
       "    <tr>\n",
       "      <th>min</th>\n",
       "      <td>1000.000000</td>\n",
       "      <td>35040.000000</td>\n",
       "    </tr>\n",
       "    <tr>\n",
       "      <th>25%</th>\n",
       "      <td>1249.750000</td>\n",
       "      <td>44827.000000</td>\n",
       "    </tr>\n",
       "    <tr>\n",
       "      <th>50%</th>\n",
       "      <td>1499.500000</td>\n",
       "      <td>54309.000000</td>\n",
       "    </tr>\n",
       "    <tr>\n",
       "      <th>75%</th>\n",
       "      <td>1749.250000</td>\n",
       "      <td>64599.000000</td>\n",
       "    </tr>\n",
       "    <tr>\n",
       "      <th>max</th>\n",
       "      <td>1999.000000</td>\n",
       "      <td>74953.000000</td>\n",
       "    </tr>\n",
       "  </tbody>\n",
       "</table>\n",
       "</div>"
      ],
      "text/plain": [
       "                id        income\n",
       "count  1000.000000    945.000000\n",
       "mean   1499.500000  54601.469841\n",
       "std     288.819436  11397.859584\n",
       "min    1000.000000  35040.000000\n",
       "25%    1249.750000  44827.000000\n",
       "50%    1499.500000  54309.000000\n",
       "75%    1749.250000  64599.000000\n",
       "max    1999.000000  74953.000000"
      ]
     },
     "execution_count": 9,
     "metadata": {},
     "output_type": "execute_result"
    }
   ],
   "source": [
    "df.describe()"
   ]
  },
  {
   "cell_type": "code",
   "execution_count": 11,
   "metadata": {},
   "outputs": [
    {
     "data": {
      "text/plain": [
       "Male      499\n",
       "Female    457\n",
       "Name: gender, dtype: int64"
      ]
     },
     "execution_count": 11,
     "metadata": {},
     "output_type": "execute_result"
    }
   ],
   "source": [
    "df['gender'].value_counts()"
   ]
  },
  {
   "cell_type": "markdown",
   "metadata": {},
   "source": [
    "### Structuring data into a meaningful format\n",
    "Once I knew what kind of data I was working with. I now wanted to visualize it. \n",
    "\n",
    "I used ```.boxplot(column='income')``` to make a plot chart of the variance in applicant's income."
   ]
  },
  {
   "cell_type": "code",
   "execution_count": 12,
   "metadata": {},
   "outputs": [
    {
     "data": {
      "text/plain": [
       "<matplotlib.axes._subplots.AxesSubplot at 0x119bf48d0>"
      ]
     },
     "execution_count": 12,
     "metadata": {},
     "output_type": "execute_result"
    },
    {
     "data": {
      "image/png": "[encoded data removed]",
      "text/plain": [
       "<matplotlib.figure.Figure at 0x119c8a0f0>"
      ]
     },
     "metadata": {},
     "output_type": "display_data"
    }
   ],
   "source": [
    "df.boxplot(column= 'income')"
   ]
  },
  {
   "cell_type": "code",
   "execution_count": 21,
   "metadata": {},
   "outputs": [
    {
     "data": {
      "image/png": "[encoded data removed]",
      "text/plain": [
       "<matplotlib.figure.Figure at 0x119bfe080>"
      ]
     },
     "metadata": {},
     "output_type": "display_data"
    }
   ],
   "source": [
    "bp = df.boxplot(column='income', by = 'gender', patch_artist=True)"
   ]
  },
  {
   "cell_type": "code",
   "execution_count": 35,
   "metadata": {},
   "outputs": [
    {
     "data": {
      "text/plain": [
       "id                 0\n",
       "first_name         0\n",
       "last_name         75\n",
       "email             44\n",
       "gender            44\n",
       "street_address     0\n",
       "city               0\n",
       "state              0\n",
       "date_applied       0\n",
       "progession         0\n",
       "income            55\n",
       "dtype: int64"
      ]
     },
     "execution_count": 35,
     "metadata": {},
     "output_type": "execute_result"
    }
   ],
   "source": [
    "df.apply(lambda x: sum(x.isnull()),axis=0)"
   ]
  },
  {
   "cell_type": "code",
   "execution_count": null,
   "metadata": {
    "collapsed": true
   },
   "outputs": [],
   "source": []
  }
 ],
 "metadata": {
  "kernelspec": {
   "display_name": "Python 3",
   "language": "python",
   "name": "python3"
  },
  "language_info": {
   "codemirror_mode": {
    "name": "ipython",
    "version": 3
   },
   "file_extension": ".py",
   "mimetype": "text/x-python",
   "name": "python",
   "nbconvert_exporter": "python",
   "pygments_lexer": "ipython3",
   "version": "3.6.3"
  }
 },
 "nbformat": 4,
 "nbformat_minor": 2
}
